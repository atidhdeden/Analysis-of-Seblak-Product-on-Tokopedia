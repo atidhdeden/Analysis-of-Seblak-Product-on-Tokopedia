{
 "cells": [
  {
   "cell_type": "markdown",
   "metadata": {},
   "source": [
    "\n",
    "'''\n",
    "\n",
    "=================================================\n",
    "\n",
    "Graded Challenge 3\n",
    "\n",
    "Nama  :Nurdin Atid H\n",
    "\n",
    "Batch : BSD-002\n",
    "\n",
    "program ini dibuat untuk menganalisa penjualan produk seblak di tokopedia untuk membantu mencari data dan mencari korelas antar variable di dalamnya\n",
    "\n",
    "=================================================\n",
    "\n",
    "'''"
   ]
  },
  {
   "cell_type": "markdown",
   "metadata": {},
   "source": [
    "Case\n",
    "\n",
    "\n",
    "Kamu ingin menambah pendapatanmu dengan berjualan. Namun, kamu tidak punya cukup modal untuk produksi barang dan hanya cukup untuk promosi, sehingga kamu memutuskan untuk menjalanan skema dropship di platform Tokopedia.\n",
    "\n",
    "Kamu masih bingung akan berjualan apa dan teringat bahwa saat ini sedang viral seblak. Namun, kamu tidak yakin apakah benar bahwa masyarakat memiliki animo yang besar terhadap seblak.\n",
    "\n",
    "Karena kamu lulusan bootcamp Data Science Hacktiv8, dengan kemampuan dan pengetahuan kamu, kamu ingin menganalisis bagaimana penjualan produk seblak di Tokopedia. Apakah orang suka, apakah banyak yang beli, dsb.\n",
    "\n",
    "Tantangannya, kamu tidak punya data sama sekali selain yang terpampang pada website e-commerce Tokopedia. Oleh karena itu, perjalanan kamu dimulai dari pengambilan data menggunakan Web Scraping!\n"
   ]
  },
  {
   "cell_type": "code",
   "execution_count": 2,
   "metadata": {},
   "outputs": [],
   "source": [
    "import pandas as pd \n",
    "from selenium import webdriver\n",
    "driver = webdriver.Chrome()"
   ]
  },
  {
   "cell_type": "markdown",
   "metadata": {},
   "source": [
    "A. Web Scraping\n",
    "Lakukan pengambilan data dari halaman pencarian kata kunci produk \"seblak\". Kamu bisa langsung akses link ini: https://www.tokopedia.com/search?navsource=&page=1&q=seblak&srp_component_id=02.01.00.00&srp_page_id=&srp_page_title=&st="
   ]
  },
  {
   "cell_type": "code",
   "execution_count": 3,
   "metadata": {},
   "outputs": [
    {
     "name": "stdout",
     "output_type": "stream",
     "text": [
      "<html data-rh=\"lang,translate\" lang=\"id\" translate=\"no\">\n",
      " <head>\n",
      "  <title>\n",
      "   Jual seblak | Tokopedia\n",
      "  </title>\n",
      "  <meta charset=\"utf-8\"/>\n",
      "  <meta content=\"initial-scale=1, minimum-scale=1, maximum-scale=5, user-scalable=yes, width=device-width\" name=\"viewport\"/>\n",
      "  <link crossorigin=\"\" href=\"https://assets.tokopedia.net\" rel=\"preconnect\"/>\n",
      "  <link href=\"https://assets.tokopedia.net\" nonce=\"\" rel=\"dns-prefetch\"/>\n",
      "  <link crossorigin=\"\" href=\"https://gql.tokopedia.com\" rel=\"preconnect\"/>\n",
      "  <link href=\"https://gql.tokopedia.com\" nonce=\"\" rel=\"dns-prefetch\"/>\n",
      "  <link crossorigin=\"\" href=\"https://googleads.g.doubleclick.net\" rel=\"preconnect\"/>\n",
      "  <link href=\"https://googleads.g.doubleclick.net\" no\n"
     ]
    }
   ],
   "source": [
    "from bs4 import BeautifulSoup\n",
    "from selenium import webdriver\n",
    "driver = webdriver.Chrome('')\n",
    "\n",
    "url=\"https://www.tokopedia.com/search?navsource=&page=1&q=seblak&srp_component_id=02.01.00.00&srp_page_id=&srp_page_title=&st=\"\n",
    "driver.get(url)\n",
    "html = driver.page_source\n",
    "\n",
    "soup = BeautifulSoup(html, \"html.parser\")\n",
    "print(soup.prettify()[:700])"
   ]
  },
  {
   "cell_type": "code",
   "execution_count": 4,
   "metadata": {},
   "outputs": [],
   "source": [
    "driver = webdriver.Chrome()"
   ]
  },
  {
   "cell_type": "code",
   "execution_count": 5,
   "metadata": {},
   "outputs": [
    {
     "data": {
      "text/html": [
       "<div>\n",
       "<style scoped>\n",
       "    .dataframe tbody tr th:only-of-type {\n",
       "        vertical-align: middle;\n",
       "    }\n",
       "\n",
       "    .dataframe tbody tr th {\n",
       "        vertical-align: top;\n",
       "    }\n",
       "\n",
       "    .dataframe thead th {\n",
       "        text-align: right;\n",
       "    }\n",
       "</style>\n",
       "<table border=\"1\" class=\"dataframe\">\n",
       "  <thead>\n",
       "    <tr style=\"text-align: right;\">\n",
       "      <th></th>\n",
       "      <th>nama_produk</th>\n",
       "      <th>harga_produk</th>\n",
       "      <th>penjual</th>\n",
       "      <th>kota</th>\n",
       "      <th>banyak_terjual</th>\n",
       "      <th>rating</th>\n",
       "    </tr>\n",
       "  </thead>\n",
       "  <tbody>\n",
       "    <tr>\n",
       "      <th>0</th>\n",
       "      <td>None</td>\n",
       "      <td>None</td>\n",
       "      <td>None</td>\n",
       "      <td>None</td>\n",
       "      <td>None</td>\n",
       "      <td>None</td>\n",
       "    </tr>\n",
       "    <tr>\n",
       "      <th>1</th>\n",
       "      <td>None</td>\n",
       "      <td>None</td>\n",
       "      <td>None</td>\n",
       "      <td>None</td>\n",
       "      <td>None</td>\n",
       "      <td>None</td>\n",
       "    </tr>\n",
       "    <tr>\n",
       "      <th>2</th>\n",
       "      <td>None</td>\n",
       "      <td>None</td>\n",
       "      <td>None</td>\n",
       "      <td>None</td>\n",
       "      <td>None</td>\n",
       "      <td>None</td>\n",
       "    </tr>\n",
       "    <tr>\n",
       "      <th>3</th>\n",
       "      <td>None</td>\n",
       "      <td>None</td>\n",
       "      <td>None</td>\n",
       "      <td>None</td>\n",
       "      <td>None</td>\n",
       "      <td>None</td>\n",
       "    </tr>\n",
       "    <tr>\n",
       "      <th>4</th>\n",
       "      <td>None</td>\n",
       "      <td>None</td>\n",
       "      <td>None</td>\n",
       "      <td>None</td>\n",
       "      <td>None</td>\n",
       "      <td>None</td>\n",
       "    </tr>\n",
       "  </tbody>\n",
       "</table>\n",
       "</div>"
      ],
      "text/plain": [
       "  nama_produk harga_produk penjual  kota banyak_terjual rating\n",
       "0        None         None    None  None           None   None\n",
       "1        None         None    None  None           None   None\n",
       "2        None         None    None  None           None   None\n",
       "3        None         None    None  None           None   None\n",
       "4        None         None    None  None           None   None"
      ]
     },
     "execution_count": 5,
     "metadata": {},
     "output_type": "execute_result"
    }
   ],
   "source": [
    "SEBLAK_TOKPED = []\n",
    "\n",
    "for i in range(1,11):\n",
    "    url=\"https://www.tokopedia.com/search?navsource=&page={}&q=seblak&srp_component_id=02.01.00.00&srp_page_id=&srp_page_title=&st=\".format(i)\n",
    "    driver.get(url)\n",
    "    html = driver.page_source\n",
    "    soup = BeautifulSoup(html, \"html.parser\")\n",
    "\n",
    "    for n in soup.findAll('div', class_=\"css-llwpbs\"):\n",
    "        # Mengambil Nama Produk\n",
    "        element = n.find('div', class_=\"prd_link-product-name css-3um8ox\")\n",
    "        if element is not None:\n",
    "            nama_produk = element.get_text()\n",
    "        else:\n",
    "            nama_produk = None\n",
    "\n",
    "        # Mengambil Harga Produk\n",
    "        element = n.find('div', class_=\"prd_link-product-price css-h66vau\")\n",
    "        if element is not None:\n",
    "            harga_produk = element.get_text()\n",
    "        else:\n",
    "            harga_produk = None\n",
    "\n",
    "        # Mengambil nama penjual\n",
    "        element = n.find('span', class_=\"prd_link-shop-name css-1kdc32b flip\")\n",
    "        if element is not None:\n",
    "            penjual = element.get_text()\n",
    "        else:\n",
    "            penjual = None\n",
    "\n",
    "        # Mengambil nama kota\n",
    "        element = n.find('span', class_=\"prd_link-shop-loc css-1kdc32b flip\")\n",
    "        if element is not None:\n",
    "            kota = element.get_text()\n",
    "        else:\n",
    "            kota = None\n",
    "\n",
    "        # Mengambil banyak_terjual\n",
    "        element = n.find('span', class_=\"prd_label-integrity css-1sgek4h\")\n",
    "        if element is not None:\n",
    "            banyak_terjual = element.get_text()\n",
    "        else:\n",
    "            banyak_terjual = None\n",
    "\n",
    "        # Mengambil rating_produk\n",
    "        element = n.find('span', class_=\"prd_rating-average-text css-t70v7i\")\n",
    "        if element is not None:\n",
    "            rating = element.get_text()\n",
    "        else:\n",
    "            rating = None\n",
    "        \n",
    "        SEBLAK_TOKPED.append((nama_produk, harga_produk, penjual, kota, banyak_terjual, rating ))\n",
    "\n",
    "\n",
    "\n",
    "data_multipage = pd.DataFrame(SEBLAK_TOKPED, columns=['nama_produk', 'harga_produk', 'penjual', 'kota', 'banyak_terjual', 'rating'])\n",
    "\n",
    "data_multipage.head()"
   ]
  },
  {
   "cell_type": "code",
   "execution_count": 6,
   "metadata": {},
   "outputs": [
    {
     "name": "stdout",
     "output_type": "stream",
     "text": [
      "<class 'pandas.core.frame.DataFrame'>\n",
      "RangeIndex: 725 entries, 0 to 724\n",
      "Data columns (total 6 columns):\n",
      " #   Column          Non-Null Count  Dtype \n",
      "---  ------          --------------  ----- \n",
      " 0   nama_produk     90 non-null     object\n",
      " 1   harga_produk    90 non-null     object\n",
      " 2   penjual         90 non-null     object\n",
      " 3   kota            90 non-null     object\n",
      " 4   banyak_terjual  78 non-null     object\n",
      " 5   rating          75 non-null     object\n",
      "dtypes: object(6)\n",
      "memory usage: 34.1+ KB\n"
     ]
    }
   ],
   "source": [
    "data_multipage.info()"
   ]
  },
  {
   "cell_type": "markdown",
   "metadata": {},
   "source": [
    "#### B. Data Preparation\n",
    "\n",
    "1. Lakukan eksplorasi data sederhana:\n",
    "  - Tampilkan beberapa baris data - tuliskan insight\n",
    "  - Tampilkan informasi rangkuman data - tuliskan insight dan berikan penjelasan langkah apa yang akan kamu lakukan\n",
    "  - Cek missing value - tuliskan insight dari temuan yang kamu dapatkan\n",
    "2. Lakukan data cleaning:\n",
    "  Kamu bisa handle missing value bila ada, mengubah bentuk data menjadi konsisten dan menyesuaikan tipe data. Perlu diingat bahwa data ini akan digunakan untuk perhitungan statisik dan membutuhkan angka.\n",
    "3. Catatan:\n",
    "  Pada kolom \"Banyaknya Terjual\", jumlah produk yang terjual dituliskan sebagai `Terjual 750+`, `Terjual 1 rb`. Ambil angkanya saja. Misal `Terjual 750+` -> `750` dan `Terjual 1 rb` -> `1000`."
   ]
  },
  {
   "cell_type": "code",
   "execution_count": 7,
   "metadata": {},
   "outputs": [
    {
     "name": "stdout",
     "output_type": "stream",
     "text": [
      "<class 'pandas.core.frame.DataFrame'>\n",
      "Index: 89 entries, 0 to 659\n",
      "Data columns (total 6 columns):\n",
      " #   Column          Non-Null Count  Dtype \n",
      "---  ------          --------------  ----- \n",
      " 0   nama_produk     88 non-null     object\n",
      " 1   harga_produk    88 non-null     object\n",
      " 2   penjual         88 non-null     object\n",
      " 3   kota            88 non-null     object\n",
      " 4   banyak_terjual  76 non-null     object\n",
      " 5   rating          73 non-null     object\n",
      "dtypes: object(6)\n",
      "memory usage: 4.9+ KB\n"
     ]
    }
   ],
   "source": [
    "#untuk menghapus/drop data yang duplikat\n",
    "data_multipage.drop_duplicates(inplace=True)\n",
    "\n",
    "#tampilkan info tabel di setiap kolomnya\n",
    "data_multipage.info()"
   ]
  },
  {
   "cell_type": "code",
   "execution_count": 8,
   "metadata": {},
   "outputs": [
    {
     "data": {
      "text/html": [
       "<div>\n",
       "<style scoped>\n",
       "    .dataframe tbody tr th:only-of-type {\n",
       "        vertical-align: middle;\n",
       "    }\n",
       "\n",
       "    .dataframe tbody tr th {\n",
       "        vertical-align: top;\n",
       "    }\n",
       "\n",
       "    .dataframe thead th {\n",
       "        text-align: right;\n",
       "    }\n",
       "</style>\n",
       "<table border=\"1\" class=\"dataframe\">\n",
       "  <thead>\n",
       "    <tr style=\"text-align: right;\">\n",
       "      <th></th>\n",
       "      <th>nama_produk</th>\n",
       "      <th>harga_produk</th>\n",
       "      <th>penjual</th>\n",
       "      <th>kota</th>\n",
       "      <th>banyak_terjual</th>\n",
       "      <th>rating</th>\n",
       "    </tr>\n",
       "  </thead>\n",
       "  <tbody>\n",
       "    <tr>\n",
       "      <th>5</th>\n",
       "      <td>Mie Seblak Geprek Sami Raos</td>\n",
       "      <td>Rp27.500</td>\n",
       "      <td>Official Kartika Sari</td>\n",
       "      <td>Bandung</td>\n",
       "      <td>60+ terjual</td>\n",
       "      <td>4.9</td>\n",
       "    </tr>\n",
       "    <tr>\n",
       "      <th>6</th>\n",
       "      <td>Pasar Keripik Kerupuk Seblak Mawar Mini Pedas ...</td>\n",
       "      <td>Rp12.500</td>\n",
       "      <td>Pasar Keripik</td>\n",
       "      <td>Bandung</td>\n",
       "      <td>29 terjual</td>\n",
       "      <td>5.0</td>\n",
       "    </tr>\n",
       "    <tr>\n",
       "      <th>7</th>\n",
       "      <td>Gelifood Combo 3pcs Seblak Instan Kerupuk Mawa...</td>\n",
       "      <td>Rp39.000</td>\n",
       "      <td>Lidigeli</td>\n",
       "      <td>Kab. Garut</td>\n",
       "      <td>10 terjual</td>\n",
       "      <td>5.0</td>\n",
       "    </tr>\n",
       "    <tr>\n",
       "      <th>8</th>\n",
       "      <td>siomay mini kering 1kg / gurilem toping seblak...</td>\n",
       "      <td>Rp25.000</td>\n",
       "      <td>CuankiCulametan</td>\n",
       "      <td>Kab. Garut</td>\n",
       "      <td>100+ terjual</td>\n",
       "      <td>4.9</td>\n",
       "    </tr>\n",
       "    <tr>\n",
       "      <th>9</th>\n",
       "      <td>Seblak Instan Sehati</td>\n",
       "      <td>Rp13.000</td>\n",
       "      <td>Official Kartika Sari</td>\n",
       "      <td>Bandung</td>\n",
       "      <td>500+ terjual</td>\n",
       "      <td>5.0</td>\n",
       "    </tr>\n",
       "    <tr>\n",
       "      <th>...</th>\n",
       "      <td>...</td>\n",
       "      <td>...</td>\n",
       "      <td>...</td>\n",
       "      <td>...</td>\n",
       "      <td>...</td>\n",
       "      <td>...</td>\n",
       "    </tr>\n",
       "    <tr>\n",
       "      <th>655</th>\n",
       "      <td>makaroni kriuk 500g pedas extra daun jeruk,cem...</td>\n",
       "      <td>Rp23.000</td>\n",
       "      <td>anugrah seblak</td>\n",
       "      <td>Kab. Bandung</td>\n",
       "      <td>250+ terjual</td>\n",
       "      <td>4.8</td>\n",
       "    </tr>\n",
       "    <tr>\n",
       "      <th>656</th>\n",
       "      <td>PAKET 1 BOCI EXTRA PEDAS + 1 TULANG RANGU + 1 ...</td>\n",
       "      <td>Rp50.000</td>\n",
       "      <td>JM Snacks</td>\n",
       "      <td>Bandung</td>\n",
       "      <td>30+ terjual</td>\n",
       "      <td>4.9</td>\n",
       "    </tr>\n",
       "    <tr>\n",
       "      <th>657</th>\n",
       "      <td>Seblak Instan Batagor/Seblak Instan Pedas</td>\n",
       "      <td>Rp8.700</td>\n",
       "      <td>yakoyako</td>\n",
       "      <td>Bekasi</td>\n",
       "      <td>100+ terjual</td>\n",
       "      <td>5.0</td>\n",
       "    </tr>\n",
       "    <tr>\n",
       "      <th>658</th>\n",
       "      <td>Cuanki SOHU MINI isi 100g untuk toping Boci Ba...</td>\n",
       "      <td>Rp6.999</td>\n",
       "      <td>gaiagarut</td>\n",
       "      <td>Kab. Garut</td>\n",
       "      <td>18 terjual</td>\n",
       "      <td>4.7</td>\n",
       "    </tr>\n",
       "    <tr>\n",
       "      <th>659</th>\n",
       "      <td>Kerupuk Tangga / Rante Topping Seblak</td>\n",
       "      <td>Rp3.000</td>\n",
       "      <td>Pusat Cuankie &amp; Cemilan Frozen</td>\n",
       "      <td>Jakarta Timur</td>\n",
       "      <td>100+ terjual</td>\n",
       "      <td>4.8</td>\n",
       "    </tr>\n",
       "  </tbody>\n",
       "</table>\n",
       "<p>73 rows × 6 columns</p>\n",
       "</div>"
      ],
      "text/plain": [
       "                                           nama_produk harga_produk  \\\n",
       "5                          Mie Seblak Geprek Sami Raos     Rp27.500   \n",
       "6    Pasar Keripik Kerupuk Seblak Mawar Mini Pedas ...     Rp12.500   \n",
       "7    Gelifood Combo 3pcs Seblak Instan Kerupuk Mawa...     Rp39.000   \n",
       "8    siomay mini kering 1kg / gurilem toping seblak...     Rp25.000   \n",
       "9                                 Seblak Instan Sehati     Rp13.000   \n",
       "..                                                 ...          ...   \n",
       "655  makaroni kriuk 500g pedas extra daun jeruk,cem...     Rp23.000   \n",
       "656  PAKET 1 BOCI EXTRA PEDAS + 1 TULANG RANGU + 1 ...     Rp50.000   \n",
       "657          Seblak Instan Batagor/Seblak Instan Pedas      Rp8.700   \n",
       "658  Cuanki SOHU MINI isi 100g untuk toping Boci Ba...      Rp6.999   \n",
       "659              Kerupuk Tangga / Rante Topping Seblak      Rp3.000   \n",
       "\n",
       "                            penjual           kota banyak_terjual rating  \n",
       "5             Official Kartika Sari        Bandung    60+ terjual    4.9  \n",
       "6                     Pasar Keripik        Bandung     29 terjual    5.0  \n",
       "7                          Lidigeli     Kab. Garut     10 terjual    5.0  \n",
       "8                   CuankiCulametan     Kab. Garut   100+ terjual    4.9  \n",
       "9             Official Kartika Sari        Bandung   500+ terjual    5.0  \n",
       "..                              ...            ...            ...    ...  \n",
       "655                  anugrah seblak   Kab. Bandung   250+ terjual    4.8  \n",
       "656                       JM Snacks        Bandung    30+ terjual    4.9  \n",
       "657                        yakoyako         Bekasi   100+ terjual    5.0  \n",
       "658                       gaiagarut     Kab. Garut     18 terjual    4.7  \n",
       "659  Pusat Cuankie & Cemilan Frozen  Jakarta Timur   100+ terjual    4.8  \n",
       "\n",
       "[73 rows x 6 columns]"
      ]
     },
     "execution_count": 8,
     "metadata": {},
     "output_type": "execute_result"
    }
   ],
   "source": [
    "#untuk menghapus/drop missing value\n",
    "data_multipage.dropna(inplace=True)\n",
    "\n",
    "#tampilkan tabel kembali\n",
    "data_multipage"
   ]
  },
  {
   "cell_type": "code",
   "execution_count": 9,
   "metadata": {},
   "outputs": [],
   "source": [
    "#menympan data csv\n",
    "data_multipage.to_csv(\"seblak.csv\", index=False)"
   ]
  },
  {
   "cell_type": "code",
   "execution_count": 10,
   "metadata": {},
   "outputs": [],
   "source": [
    "#setelah menyimpan data csv dipanggil lagi agar data yang digunakan adalah data yang sudah disimpan\n",
    "df = pd.read_csv('seblak.csv')\n"
   ]
  },
  {
   "cell_type": "code",
   "execution_count": 11,
   "metadata": {},
   "outputs": [
    {
     "data": {
      "text/html": [
       "<div>\n",
       "<style scoped>\n",
       "    .dataframe tbody tr th:only-of-type {\n",
       "        vertical-align: middle;\n",
       "    }\n",
       "\n",
       "    .dataframe tbody tr th {\n",
       "        vertical-align: top;\n",
       "    }\n",
       "\n",
       "    .dataframe thead th {\n",
       "        text-align: right;\n",
       "    }\n",
       "</style>\n",
       "<table border=\"1\" class=\"dataframe\">\n",
       "  <thead>\n",
       "    <tr style=\"text-align: right;\">\n",
       "      <th></th>\n",
       "      <th>nama_produk</th>\n",
       "      <th>harga_produk</th>\n",
       "      <th>penjual</th>\n",
       "      <th>kota</th>\n",
       "      <th>banyak_terjual</th>\n",
       "      <th>rating</th>\n",
       "    </tr>\n",
       "  </thead>\n",
       "  <tbody>\n",
       "    <tr>\n",
       "      <th>0</th>\n",
       "      <td>Mie Seblak Geprek Sami Raos</td>\n",
       "      <td>Rp27.500</td>\n",
       "      <td>Official Kartika Sari</td>\n",
       "      <td>Bandung</td>\n",
       "      <td>60+ terjual</td>\n",
       "      <td>4.9</td>\n",
       "    </tr>\n",
       "    <tr>\n",
       "      <th>1</th>\n",
       "      <td>Pasar Keripik Kerupuk Seblak Mawar Mini Pedas ...</td>\n",
       "      <td>Rp12.500</td>\n",
       "      <td>Pasar Keripik</td>\n",
       "      <td>Bandung</td>\n",
       "      <td>29 terjual</td>\n",
       "      <td>5.0</td>\n",
       "    </tr>\n",
       "    <tr>\n",
       "      <th>2</th>\n",
       "      <td>Gelifood Combo 3pcs Seblak Instan Kerupuk Mawa...</td>\n",
       "      <td>Rp39.000</td>\n",
       "      <td>Lidigeli</td>\n",
       "      <td>Kab. Garut</td>\n",
       "      <td>10 terjual</td>\n",
       "      <td>5.0</td>\n",
       "    </tr>\n",
       "    <tr>\n",
       "      <th>3</th>\n",
       "      <td>siomay mini kering 1kg / gurilem toping seblak...</td>\n",
       "      <td>Rp25.000</td>\n",
       "      <td>CuankiCulametan</td>\n",
       "      <td>Kab. Garut</td>\n",
       "      <td>100+ terjual</td>\n",
       "      <td>4.9</td>\n",
       "    </tr>\n",
       "    <tr>\n",
       "      <th>4</th>\n",
       "      <td>Seblak Instan Sehati</td>\n",
       "      <td>Rp13.000</td>\n",
       "      <td>Official Kartika Sari</td>\n",
       "      <td>Bandung</td>\n",
       "      <td>500+ terjual</td>\n",
       "      <td>5.0</td>\n",
       "    </tr>\n",
       "    <tr>\n",
       "      <th>...</th>\n",
       "      <td>...</td>\n",
       "      <td>...</td>\n",
       "      <td>...</td>\n",
       "      <td>...</td>\n",
       "      <td>...</td>\n",
       "      <td>...</td>\n",
       "    </tr>\n",
       "    <tr>\n",
       "      <th>68</th>\n",
       "      <td>makaroni kriuk 500g pedas extra daun jeruk,cem...</td>\n",
       "      <td>Rp23.000</td>\n",
       "      <td>anugrah seblak</td>\n",
       "      <td>Kab. Bandung</td>\n",
       "      <td>250+ terjual</td>\n",
       "      <td>4.8</td>\n",
       "    </tr>\n",
       "    <tr>\n",
       "      <th>69</th>\n",
       "      <td>PAKET 1 BOCI EXTRA PEDAS + 1 TULANG RANGU + 1 ...</td>\n",
       "      <td>Rp50.000</td>\n",
       "      <td>JM Snacks</td>\n",
       "      <td>Bandung</td>\n",
       "      <td>30+ terjual</td>\n",
       "      <td>4.9</td>\n",
       "    </tr>\n",
       "    <tr>\n",
       "      <th>70</th>\n",
       "      <td>Seblak Instan Batagor/Seblak Instan Pedas</td>\n",
       "      <td>Rp8.700</td>\n",
       "      <td>yakoyako</td>\n",
       "      <td>Bekasi</td>\n",
       "      <td>100+ terjual</td>\n",
       "      <td>5.0</td>\n",
       "    </tr>\n",
       "    <tr>\n",
       "      <th>71</th>\n",
       "      <td>Cuanki SOHU MINI isi 100g untuk toping Boci Ba...</td>\n",
       "      <td>Rp6.999</td>\n",
       "      <td>gaiagarut</td>\n",
       "      <td>Kab. Garut</td>\n",
       "      <td>18 terjual</td>\n",
       "      <td>4.7</td>\n",
       "    </tr>\n",
       "    <tr>\n",
       "      <th>72</th>\n",
       "      <td>Kerupuk Tangga / Rante Topping Seblak</td>\n",
       "      <td>Rp3.000</td>\n",
       "      <td>Pusat Cuankie &amp; Cemilan Frozen</td>\n",
       "      <td>Jakarta Timur</td>\n",
       "      <td>100+ terjual</td>\n",
       "      <td>4.8</td>\n",
       "    </tr>\n",
       "  </tbody>\n",
       "</table>\n",
       "<p>73 rows × 6 columns</p>\n",
       "</div>"
      ],
      "text/plain": [
       "                                          nama_produk harga_produk  \\\n",
       "0                         Mie Seblak Geprek Sami Raos     Rp27.500   \n",
       "1   Pasar Keripik Kerupuk Seblak Mawar Mini Pedas ...     Rp12.500   \n",
       "2   Gelifood Combo 3pcs Seblak Instan Kerupuk Mawa...     Rp39.000   \n",
       "3   siomay mini kering 1kg / gurilem toping seblak...     Rp25.000   \n",
       "4                                Seblak Instan Sehati     Rp13.000   \n",
       "..                                                ...          ...   \n",
       "68  makaroni kriuk 500g pedas extra daun jeruk,cem...     Rp23.000   \n",
       "69  PAKET 1 BOCI EXTRA PEDAS + 1 TULANG RANGU + 1 ...     Rp50.000   \n",
       "70          Seblak Instan Batagor/Seblak Instan Pedas      Rp8.700   \n",
       "71  Cuanki SOHU MINI isi 100g untuk toping Boci Ba...      Rp6.999   \n",
       "72              Kerupuk Tangga / Rante Topping Seblak      Rp3.000   \n",
       "\n",
       "                           penjual           kota banyak_terjual  rating  \n",
       "0            Official Kartika Sari        Bandung    60+ terjual     4.9  \n",
       "1                    Pasar Keripik        Bandung     29 terjual     5.0  \n",
       "2                         Lidigeli     Kab. Garut     10 terjual     5.0  \n",
       "3                  CuankiCulametan     Kab. Garut   100+ terjual     4.9  \n",
       "4            Official Kartika Sari        Bandung   500+ terjual     5.0  \n",
       "..                             ...            ...            ...     ...  \n",
       "68                  anugrah seblak   Kab. Bandung   250+ terjual     4.8  \n",
       "69                       JM Snacks        Bandung    30+ terjual     4.9  \n",
       "70                        yakoyako         Bekasi   100+ terjual     5.0  \n",
       "71                       gaiagarut     Kab. Garut     18 terjual     4.7  \n",
       "72  Pusat Cuankie & Cemilan Frozen  Jakarta Timur   100+ terjual     4.8  \n",
       "\n",
       "[73 rows x 6 columns]"
      ]
     },
     "execution_count": 11,
     "metadata": {},
     "output_type": "execute_result"
    }
   ],
   "source": [
    "df"
   ]
  },
  {
   "cell_type": "code",
   "execution_count": 12,
   "metadata": {},
   "outputs": [],
   "source": [
    "#menghapus data yang duplikat\n",
    "data_multipage.drop_duplicates(inplace=True)"
   ]
  },
  {
   "cell_type": "code",
   "execution_count": 13,
   "metadata": {},
   "outputs": [],
   "source": [
    "data_multipage.dropna(inplace=True)"
   ]
  },
  {
   "cell_type": "code",
   "execution_count": 14,
   "metadata": {},
   "outputs": [
    {
     "name": "stdout",
     "output_type": "stream",
     "text": [
      "<class 'pandas.core.frame.DataFrame'>\n",
      "Index: 73 entries, 5 to 659\n",
      "Data columns (total 6 columns):\n",
      " #   Column          Non-Null Count  Dtype \n",
      "---  ------          --------------  ----- \n",
      " 0   nama_produk     73 non-null     object\n",
      " 1   harga_produk    73 non-null     object\n",
      " 2   penjual         73 non-null     object\n",
      " 3   kota            73 non-null     object\n",
      " 4   banyak_terjual  73 non-null     object\n",
      " 5   rating          73 non-null     object\n",
      "dtypes: object(6)\n",
      "memory usage: 4.0+ KB\n"
     ]
    }
   ],
   "source": [
    "data_multipage.info()"
   ]
  },
  {
   "cell_type": "code",
   "execution_count": 15,
   "metadata": {},
   "outputs": [
    {
     "data": {
      "text/html": [
       "<div>\n",
       "<style scoped>\n",
       "    .dataframe tbody tr th:only-of-type {\n",
       "        vertical-align: middle;\n",
       "    }\n",
       "\n",
       "    .dataframe tbody tr th {\n",
       "        vertical-align: top;\n",
       "    }\n",
       "\n",
       "    .dataframe thead th {\n",
       "        text-align: right;\n",
       "    }\n",
       "</style>\n",
       "<table border=\"1\" class=\"dataframe\">\n",
       "  <thead>\n",
       "    <tr style=\"text-align: right;\">\n",
       "      <th></th>\n",
       "      <th>nama_produk</th>\n",
       "      <th>harga_produk</th>\n",
       "      <th>penjual</th>\n",
       "      <th>kota</th>\n",
       "      <th>banyak_terjual</th>\n",
       "      <th>rating</th>\n",
       "    </tr>\n",
       "  </thead>\n",
       "  <tbody>\n",
       "    <tr>\n",
       "      <th>5</th>\n",
       "      <td>Mie Seblak Geprek Sami Raos</td>\n",
       "      <td>27500</td>\n",
       "      <td>Official Kartika Sari</td>\n",
       "      <td>Bandung</td>\n",
       "      <td>60</td>\n",
       "      <td>4.9</td>\n",
       "    </tr>\n",
       "    <tr>\n",
       "      <th>6</th>\n",
       "      <td>Pasar Keripik Kerupuk Seblak Mawar Mini Pedas ...</td>\n",
       "      <td>12500</td>\n",
       "      <td>Pasar Keripik</td>\n",
       "      <td>Bandung</td>\n",
       "      <td>29</td>\n",
       "      <td>5.0</td>\n",
       "    </tr>\n",
       "    <tr>\n",
       "      <th>7</th>\n",
       "      <td>Gelifood Combo 3pcs Seblak Instan Kerupuk Mawa...</td>\n",
       "      <td>39000</td>\n",
       "      <td>Lidigeli</td>\n",
       "      <td>Kab. Garut</td>\n",
       "      <td>10</td>\n",
       "      <td>5.0</td>\n",
       "    </tr>\n",
       "    <tr>\n",
       "      <th>8</th>\n",
       "      <td>siomay mini kering 1kg / gurilem toping seblak...</td>\n",
       "      <td>25000</td>\n",
       "      <td>CuankiCulametan</td>\n",
       "      <td>Kab. Garut</td>\n",
       "      <td>100</td>\n",
       "      <td>4.9</td>\n",
       "    </tr>\n",
       "    <tr>\n",
       "      <th>9</th>\n",
       "      <td>Seblak Instan Sehati</td>\n",
       "      <td>13000</td>\n",
       "      <td>Official Kartika Sari</td>\n",
       "      <td>Bandung</td>\n",
       "      <td>500</td>\n",
       "      <td>5.0</td>\n",
       "    </tr>\n",
       "  </tbody>\n",
       "</table>\n",
       "</div>"
      ],
      "text/plain": [
       "                                         nama_produk harga_produk  \\\n",
       "5                        Mie Seblak Geprek Sami Raos        27500   \n",
       "6  Pasar Keripik Kerupuk Seblak Mawar Mini Pedas ...        12500   \n",
       "7  Gelifood Combo 3pcs Seblak Instan Kerupuk Mawa...        39000   \n",
       "8  siomay mini kering 1kg / gurilem toping seblak...        25000   \n",
       "9                               Seblak Instan Sehati        13000   \n",
       "\n",
       "                 penjual        kota banyak_terjual rating  \n",
       "5  Official Kartika Sari     Bandung             60    4.9  \n",
       "6          Pasar Keripik     Bandung             29    5.0  \n",
       "7               Lidigeli  Kab. Garut             10    5.0  \n",
       "8        CuankiCulametan  Kab. Garut            100    4.9  \n",
       "9  Official Kartika Sari     Bandung            500    5.0  "
      ]
     },
     "execution_count": 15,
     "metadata": {},
     "output_type": "execute_result"
    }
   ],
   "source": [
    "#cleaning data dengan menghilangkan tanda baca tidak sesuai\n",
    "data_multipage['harga_produk'] = data_multipage['harga_produk'].str.replace('Rp', '')\n",
    "data_multipage['harga_produk'] = data_multipage['harga_produk'].str.replace('.', '')\n",
    "data_multipage['banyak_terjual'] = data_multipage['banyak_terjual'].str.replace('+', '')\n",
    "data_multipage['banyak_terjual'] = data_multipage['banyak_terjual'].str.replace('rb', '000')\n",
    "data_multipage['banyak_terjual'] = data_multipage['banyak_terjual'].str.replace('terjual', '')\n",
    "data_multipage['banyak_terjual'] = data_multipage['banyak_terjual'].str.replace(' ', '')\n",
    "data_multipage.head()"
   ]
  },
  {
   "cell_type": "code",
   "execution_count": null,
   "metadata": {},
   "outputs": [],
   "source": []
  },
  {
   "cell_type": "code",
   "execution_count": 16,
   "metadata": {},
   "outputs": [],
   "source": [
    "#cleaning data dengan menghilangkan jenis data pada kolom\n",
    "data_multipage['harga_produk']=data_multipage['harga_produk'].astype(int)\n",
    "data_multipage['banyak_terjual']=data_multipage['banyak_terjual'].astype(int)\n",
    "data_multipage['rating']=data_multipage['rating'].astype(float)"
   ]
  },
  {
   "cell_type": "markdown",
   "metadata": {},
   "source": [
    "## C. Business Understanding/Problem Statement\n",
    "Buat problem statement menggunakan SMART framework berikut dengan penjabaran Specific, Measurable, Achievable, Relevant, dan Time-bound. Jangan lupa merangkup dalam satu kalimat problem statement serta gunakan metrik yang tepat dari kasus ini.\n",
    "\n",
    "1. specifik\n",
    "\n",
    "menganalisis data penjualan seblak dari tokopedia\n",
    "\n",
    "2. measurable\n",
    "\n",
    "menentukan nilai mean, median, dari penjualan seblak untuk mencari berapa rata2 penjual menjual seblak.\n",
    "\n",
    "3. Achieveble\n",
    "\n",
    "mencari korelasi antara harga dan kepuasan pembeli agar pedagang dengan tujuan memningkatkan penjualannya\n",
    "\n",
    "4. relevant\n",
    "\n",
    "menentukan berapa pendapatan terendah dan terkecil yang di dapatkan oleh penjual yang akan berjualan seblak.\n",
    "\n",
    "5. time bond\n",
    "\n",
    "pengolahan data dilakukan selama 3 hari\n"
   ]
  },
  {
   "cell_type": "markdown",
   "metadata": {},
   "source": [
    "D. Analysis\n",
    "Dalam melakukan analisa data untuk mencapai tujuan yang diinginkan, kamu perlu mengikuti soal/pertanyaan/instruksi berikut ini:\n",
    "\n",
    "1. Hitung rata-rata, median, standar deviasi, skewness, dan kurtosis dari kolom harga, banyak produk terjual, dan rating. Dari hasil perhitungan, insight apa saja yang bisa kamu dapatkan khususnya terkait dengan produk seblak dan datanya (distribusi dan kecenderungan ada/tidaknya outlier)?\n",
    "Note: Jika menemukan adanya indikasi outlier dari perhitungan ini, tidak perlu dihandle karena sifatnya alami. Dibiarkan saja.\n",
    "\n",
    "2. Kamu memikirkan berapa potensi minimum dan maksimum pendapatan jika kamu menjual produk seblak?(Gunakan confidence interval untuk mendapatkan lower value dan upper value dari distribusi populasi pendapatan).\n",
    "\n",
    "Anggap data terdistribusi normal dan informasi produk terjual merupakan penjualan produk per bulan. Ambil confidence level 95%.\n",
    "\n",
    "3. Apakah harga barang di Jabodetabek dan di luar Jabodetabek berbeda? mengingat biaya bahan baku di kedua lokasi berbeda. (Gunakan uji hipotesis yang diawali dengan menuliskan hipotesis null dan alternatifnya serta tentukan jenis hipotesis yang digunakan).\n",
    "\n",
    "4. Apakah orang lebih cenderung suka dengan produk yang harganya murah?\n",
    "\n",
    "Kamu dapat jawab pertanyaan ini dengan uji korelasi. Gunakan library scipy jangan pandas. Analisis nilai korelasi dan p-value nya. Gunakan teknik yang sesuai dengan kondisi data!\n",
    "\n",
    "Kamu dilarang untuk copy-paste pertanyaan soal. Buat lah cerita yang runut dari persoalan dan jawaban nomor 1 sampai 4 sebagai ganti kalimat soal."
   ]
  },
  {
   "cell_type": "markdown",
   "metadata": {},
   "source": [
    "mean median modus"
   ]
  },
  {
   "cell_type": "markdown",
   "metadata": {},
   "source": [
    "1. Hitung rata-rata, median, standar deviasi, skewness, dan kurtosis dari kolom harga, banyak produk terjual, dan rating. Dari hasil perhitungan, insight apa saja yang bisa kamu dapatkan khususnya terkait dengan produk seblak dan datanya (distribusi dan kecenderungan ada/tidaknya outlier)?\n",
    "Note: Jika menemukan adanya indikasi outlier dari perhitungan ini, tidak perlu dihandle karena sifatnya alami. Dibiarkan saja.\n"
   ]
  },
  {
   "cell_type": "code",
   "execution_count": 17,
   "metadata": {},
   "outputs": [
    {
     "name": "stdout",
     "output_type": "stream",
     "text": [
      "Mean_harga_produk : 24829.602739726026\n",
      "Median_harga_produk : 15500.0\n",
      "Standard Deviation harga produk: 27400.76763155233\n",
      "Skewness: 2.79043122119568\n",
      "Kurtosis: 8.927317266100744\n"
     ]
    }
   ],
   "source": [
    "#pengambilan data mean median untuk harga produk\n",
    "Median_harga_produk = data_multipage['harga_produk'].mean()\n",
    "print(f\"Mean_harga_produk :\", Median_harga_produk)\n",
    "Median_harga_produk = data_multipage['harga_produk'].median()\n",
    "print(f\"Median_harga_produk :\", Median_harga_produk)\n",
    "\n",
    "#mencari st dev harga produk\n",
    "std = data_multipage['harga_produk'].std()\n",
    "print(f'Standard Deviation harga produk:',std)\n",
    "\n",
    "#mencari nilai skewnes harga produk\n",
    "print(f\"Skewness: {data_multipage['harga_produk'].skew()}\")\n",
    "\n",
    "#mencari nilai kurtosis\n",
    "print(f\"Kurtosis: {data_multipage['harga_produk'].kurtosis()}\")\n"
   ]
  },
  {
   "cell_type": "markdown",
   "metadata": {},
   "source": [
    "skewnes : positif skew\n",
    "kurtosis : kurtosis lancip\n",
    "artinya data merupakan data tidak normal"
   ]
  },
  {
   "cell_type": "code",
   "execution_count": 18,
   "metadata": {},
   "outputs": [
    {
     "name": "stdout",
     "output_type": "stream",
     "text": [
      "Mean_banyak_terjual : 488.4109589041096\n",
      "Median_banyak_terjual : 80.0\n",
      "Standard Deviation banyak terjual: 1552.3054792756952\n",
      "Skewness: 5.021001019977519\n",
      "Kurtosis: 26.65435219836682\n"
     ]
    }
   ],
   "source": [
    "#pengambilan data mean median untuk banyak terjual\n",
    "Median_banyak_terjual = data_multipage['banyak_terjual'].mean()\n",
    "print(f\"Mean_banyak_terjual :\", Median_banyak_terjual)\n",
    "Median_banyak_terjual = data_multipage['banyak_terjual'].median()\n",
    "print(f\"Median_banyak_terjual :\", Median_banyak_terjual)\n",
    "\n",
    "#mencari st dev banyak terjual\n",
    "std = data_multipage['banyak_terjual'].std()\n",
    "print(f'Standard Deviation banyak terjual:',std)\n",
    "\n",
    "#mencari nilai skewnes banyak terjual\n",
    "print(f\"Skewness: {data_multipage['banyak_terjual'].skew()}\")\n",
    "\n",
    "#mencari nilai kurtosis\n",
    "print(f\"Kurtosis: {data_multipage['banyak_terjual'].kurtosis()}\")"
   ]
  },
  {
   "cell_type": "markdown",
   "metadata": {},
   "source": [
    "skewnes : positif skew\n",
    "kurtosis : kurtosis lancip\n",
    "artinya data merupakan data tidak normal"
   ]
  },
  {
   "cell_type": "code",
   "execution_count": 19,
   "metadata": {},
   "outputs": [
    {
     "name": "stdout",
     "output_type": "stream",
     "text": [
      "Mean_rating : 4.904109589041096\n",
      "Median_rating : 4.9\n",
      "Standard Deviation rating: 0.103331123853238\n",
      "Skewness: -0.9381554824978179\n",
      "Kurtosis: 0.10357814504887575\n"
     ]
    }
   ],
   "source": [
    "#pengambilan data mean median untuk rating\n",
    "Median_rating = data_multipage['rating'].mean()\n",
    "print(f\"Mean_rating :\", Median_rating)\n",
    "Median_rating = data_multipage['rating'].median()\n",
    "print(f\"Median_rating :\", Median_rating)\n",
    "\n",
    "#mencari st dev rating\n",
    "std = data_multipage['rating'].std()\n",
    "print(f'Standard Deviation rating:',std)\n",
    "\n",
    "#mencari nilai skewnes rating\n",
    "print(f\"Skewness: {data_multipage['rating'].skew()}\")\n",
    "\n",
    "#mencari nilai kurtosis\n",
    "print(f\"Kurtosis: {data_multipage['rating'].kurtosis()}\")"
   ]
  },
  {
   "cell_type": "markdown",
   "metadata": {},
   "source": [
    "skewnes : negatif skew\n",
    "kurtosis : kurtosis lancip\n",
    "artinya data merupakan data tidak normal"
   ]
  },
  {
   "cell_type": "markdown",
   "metadata": {},
   "source": [
    " 2. Kamu memikirkan berapa potensi minimum dan maksimum pendapatan jika kamu menjual produk seblak?(Gunakan confidence interval untuk mendapatkan lower value dan upper value dari distribusi populasi pendapatan).\n",
    "\n",
    " Anggap data terdistribusi normal dan informasi produk terjual merupakan penjualan produk per bulan. Ambil confidence level 95%.\n"
   ]
  },
  {
   "cell_type": "code",
   "execution_count": 20,
   "metadata": {},
   "outputs": [
    {
     "name": "stdout",
     "output_type": "stream",
     "text": [
      "Requirement already satisfied: scipy in c:\\users\\master\\appdata\\local\\packages\\pythonsoftwarefoundation.python.3.11_qbz5n2kfra8p0\\localcache\\local-packages\\python311\\site-packages (1.11.3)\n",
      "Requirement already satisfied: numpy<1.28.0,>=1.21.6 in c:\\users\\master\\appdata\\local\\packages\\pythonsoftwarefoundation.python.3.11_qbz5n2kfra8p0\\localcache\\local-packages\\python311\\site-packages (from scipy) (1.26.0)\n"
     ]
    }
   ],
   "source": [
    "!pip install scipy"
   ]
  },
  {
   "cell_type": "code",
   "execution_count": 21,
   "metadata": {},
   "outputs": [],
   "source": [
    "import numpy as np\n",
    "import scipy.stats as stats"
   ]
  },
  {
   "cell_type": "code",
   "execution_count": 53,
   "metadata": {},
   "outputs": [
    {
     "name": "stdout",
     "output_type": "stream",
     "text": [
      "Rata-rata Banyak Produk yang Terjual: 488.4109589041096\n",
      "Lower Limit: 18543.96437773142\n",
      "Upper Limit: 31115.241101720632\n"
     ]
    }
   ],
   "source": [
    "#mencari rata rata pendapatan penjual dalam menjual produk seblak \n",
    "rata_rata_terjual = data_multipage['banyak_terjual'].mean()\n",
    "\n",
    "print(\"Rata-rata Banyak Produk yang Terjual:\", rata_rata_terjual)\n",
    "\n",
    "\n",
    "#mencari harga terendah dan tertinggi\n",
    "harga_deviasi = data_multipage['harga_produk'].std()\n",
    "size = len(data_multipage)\n",
    "\n",
    "low, up = stats.norm.interval(0.95,loc=data_multipage['harga_produk'].mean(),scale=harga_deviasi/np.sqrt(size))\n",
    "print('Lower Limit:',low)\n",
    "print('Upper Limit:',up)\n",
    "\n"
   ]
  },
  {
   "cell_type": "code",
   "execution_count": 55,
   "metadata": {},
   "outputs": [
    {
     "name": "stdout",
     "output_type": "stream",
     "text": [
      "Potensi pendapatan terendah: 9057075.423611453\n",
      "Potensi pendapatan tertinggi: 15197024.743023938\n"
     ]
    }
   ],
   "source": [
    "#menentukan potensi pendapatan\n",
    "\n",
    "hasil_low = rata_rata_terjual * low\n",
    "print(\"Potensi pendapatan terendah:\", hasil_low)\n",
    "\n",
    "hasil_up = rata_rata_terjual * up\n",
    "print(\"Potensi pendapatan tertinggi:\", hasil_up)\n"
   ]
  },
  {
   "cell_type": "markdown",
   "metadata": {},
   "source": [
    "3. Apakah harga barang di Jabodetabek dan di luar Jabodetabek berbeda? mengingat biaya bahan baku di kedua lokasi berbeda. (Gunakan uji hipotesis yang diawali dengan menuliskan hipotesis null dan alternatifnya serta tentukan jenis hipotesis yang digunakan)."
   ]
  },
  {
   "cell_type": "markdown",
   "metadata": {},
   "source": [
    "hipotesis null (H0) dan hipotesis alternatif (H1)\n",
    "Hipotesis Null (H0): Tidak ada perbedaan signifikan dalam harga barang antara Jabodetabek dan di luar Jabodetabek.\n",
    "Hipotesis Alternatif (H1): Ada perbedaan signifikan dalam harga barang antara Jabodetabek dan di luar Jabodetabek."
   ]
  },
  {
   "cell_type": "code",
   "execution_count": 23,
   "metadata": {},
   "outputs": [
    {
     "data": {
      "text/plain": [
       "array(['Bandung', 'Kab. Garut', 'Jakarta Pusat', 'Tangerang Selatan',\n",
       "       'Bekasi', 'Depok', 'Kab. Bantul', 'Jakarta Selatan',\n",
       "       'Jakarta Barat', 'Kab. Bogor', 'Kab. Tasikmalaya', 'Kab. Bekasi',\n",
       "       'Jambi', 'Cimahi', 'Kab.Ciamis', 'Kab. Sleman', 'Kab. Bandung',\n",
       "       'Tangerang', 'Kab. Tangerang', 'Tasikmalaya', 'Semarang',\n",
       "       'Kab. Majalengka', 'Surabaya', 'Jakarta Timur'], dtype=object)"
      ]
     },
     "execution_count": 23,
     "metadata": {},
     "output_type": "execute_result"
    }
   ],
   "source": [
    "#mendapatkan kota apa saja yang terdapat pada kolom kota\n",
    "data_multipage['kota'].unique()"
   ]
  },
  {
   "cell_type": "code",
   "execution_count": 24,
   "metadata": {},
   "outputs": [
    {
     "name": "stdout",
     "output_type": "stream",
     "text": [
      "rata-rata harga barang jabodetabek = 24832.677419354837\n",
      "rata-rata harga barang luar jabodetabek = 24827.333333333332\n"
     ]
    }
   ],
   "source": [
    "jabodetabek = data_multipage[data_multipage['kota'].isin(['Depok', 'Tangerang Selatan', 'Kab. Tangerang','Jakarta Timur','Jakarta Selatan','Kab. Bogor','Jakarta Barat','Jakarta Pusat','Tangerang','Bekasi','Kab. Bekasi'])][['harga_produk', 'rating']]\n",
    "luar = data_multipage[~data_multipage['kota'].isin(['Depok', 'Tangerang Selatan', 'Kab. Tangerang','Jakarta Timur','Jakarta Selatan','Kab. Bogor','Jakarta Barat','Jakarta Pusat','Tangerang','Bekasi','Kab. Bekasi'])][['harga_produk', 'rating']]\n",
    "\n",
    "jabodetabek_price = jabodetabek['harga_produk']\n",
    "luar_price = luar['harga_produk']\n",
    "\n",
    "\n",
    "print('rata-rata harga barang jabodetabek =',jabodetabek_price.mean())\n",
    "print('rata-rata harga barang luar jabodetabek =',luar_price.mean())"
   ]
  },
  {
   "cell_type": "code",
   "execution_count": 25,
   "metadata": {},
   "outputs": [
    {
     "name": "stdout",
     "output_type": "stream",
     "text": [
      "T-Statistic: 0.0008179329440125878\n",
      "P-Value: 0.9993496778330131\n",
      "Terima H0: Tidak terdapat perbedaan signifikan antara jabodetabek dan luar jabodetabek.\n"
     ]
    }
   ],
   "source": [
    "import scipy.stats as stats\n",
    "\n",
    "# Lakukan uji t-student\n",
    "t_statistic, p_value = stats.ttest_ind(jabodetabek_price, luar_price)\n",
    "\n",
    "# Tampilkan hasil\n",
    "print(\"T-Statistic:\", t_statistic)\n",
    "print(\"P-Value:\", p_value)\n",
    "\n",
    "# Tentukan tingkat signifikansi (alpha)\n",
    "alpha = 0.05  # Ubah sesuai dengan tingkat signifikansi yang Anda tentukan\n",
    "\n",
    "# Bandingkan p-value dengan alpha\n",
    "if p_value < alpha:\n",
    "    print(\"Tolak H0: Terdapat perbedaan signifikan antara jabodetabek dan luar jabodetabek.\")\n",
    "else:\n",
    "    print(\"Terima H0: Tidak terdapat perbedaan signifikan antara jabodetabek dan luar jabodetabek.\")"
   ]
  },
  {
   "cell_type": "markdown",
   "metadata": {},
   "source": [
    "4. Apakah orang lebih cenderung suka dengan produk yang harganya murah?"
   ]
  },
  {
   "cell_type": "code",
   "execution_count": 26,
   "metadata": {},
   "outputs": [],
   "source": [
    "import numpy as np"
   ]
  },
  {
   "cell_type": "code",
   "execution_count": 27,
   "metadata": {},
   "outputs": [
    {
     "name": "stdout",
     "output_type": "stream",
     "text": [
      "r-correlation: -0.07, p-value: 0.5581850437943593\n",
      "rho-correlation: -0.11, p-value: 0.368876529322552\n",
      "tau-correlation: -0.08, p-value: 0.3805829541760333\n"
     ]
    }
   ],
   "source": [
    "#mencari apakah ada korelasi terhadap harga\n",
    "corr_r, pval_p = stats.pearsonr(data_multipage['harga_produk'], data_multipage['rating'])\n",
    "corr_rho, pval_s = stats.spearmanr(data_multipage['harga_produk'], data_multipage['rating'])\n",
    "corr_tau, pval_k = stats.kendalltau(data_multipage['harga_produk'], data_multipage['rating'])\n",
    "\n",
    "print(f\"r-correlation: {corr_r:.2f}, p-value: {pval_p}\")\n",
    "print(f\"rho-correlation: {corr_rho:.2f}, p-value: {pval_s}\")\n",
    "print(f\"tau-correlation: {corr_tau:.2f}, p-value: {pval_k}\")"
   ]
  },
  {
   "cell_type": "markdown",
   "metadata": {},
   "source": [
    "p-value digunakan untuk memberikan informasi apakah korelasi tersebut nyata atau hanya kebetulan saja.\n",
    "\n",
    "Jika p-value lebih dari 0,05 maka korelasi kedua variabel adalah nyata.\n",
    "\n",
    "Namun dalam kasus kami, korelasi antara harga produk dan rating atau kepuasan pembeli tidak ada hubungan."
   ]
  },
  {
   "cell_type": "markdown",
   "metadata": {},
   "source": [
    "#### E. Conclusion\n",
    "  Tuliskan di markdown kesimpulan dari hasil analisis dari nomor 1-4. Kesimpulan yang baik menjawab tujuan yang ingin dicapai. Kamu dibebaskan menuliskan dalam format paragraf atau poin."
   ]
  },
  {
   "cell_type": "markdown",
   "metadata": {},
   "source": [
    "Dari data yang sudah di tarik dan di olah sedemikian rupa yaitu data penjualan seblak di aplikasi tokopedia. rata rata harga sebalak yang di jual di tokopedia adalah sekitar RP. 26.646,00. penjual seblak berasal dari berbagai kota di indosnesia yang tidak ada korelasi dari lokasi dengan penjualan para pedagang, karena tidak ada perbedaan yang signifikan dari harga yag di jual para pedagang tersebut, serta tidak ada hubungan dari harga produk dengan tingkat kepuasan pembeli. "
   ]
  }
 ],
 "metadata": {
  "kernelspec": {
   "display_name": "base",
   "language": "python",
   "name": "python3"
  },
  "language_info": {
   "codemirror_mode": {
    "name": "ipython",
    "version": 3
   },
   "file_extension": ".py",
   "mimetype": "text/x-python",
   "name": "python",
   "nbconvert_exporter": "python",
   "pygments_lexer": "ipython3",
   "version": "3.11.6"
  },
  "orig_nbformat": 4
 },
 "nbformat": 4,
 "nbformat_minor": 2
}
